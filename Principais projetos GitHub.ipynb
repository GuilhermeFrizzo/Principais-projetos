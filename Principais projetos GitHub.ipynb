{
  "nbformat": 4,
  "nbformat_minor": 0,
  "metadata": {
    "colab": {
      "provenance": [],
      "toc_visible": true
    },
    "kernelspec": {
      "name": "python3",
      "display_name": "Python 3"
    },
    "language_info": {
      "name": "python"
    }
  },
  "cells": [
    {
      "cell_type": "markdown",
      "source": [
        "#####<h2>Extraindo os principais projetos do GitHub no dia<h2>"
      ],
      "metadata": {
        "id": "4bYAhMelBVPT"
      }
    },
    {
      "cell_type": "code",
      "execution_count": 13,
      "metadata": {
        "colab": {
          "base_uri": "https://localhost:8080/"
        },
        "id": "lZ9Re8S1-TUm",
        "outputId": "23e4b862-8444-41e0-e472-d6ea414c6452"
      },
      "outputs": [
        {
          "output_type": "stream",
          "name": "stdout",
          "text": [
            "Requirement already satisfied: requests in /usr/local/lib/python3.10/dist-packages (2.32.3)\n",
            "Requirement already satisfied: beautifulsoup4 in /usr/local/lib/python3.10/dist-packages (4.12.3)\n",
            "Requirement already satisfied: pandas in /usr/local/lib/python3.10/dist-packages (2.1.4)\n",
            "Requirement already satisfied: charset-normalizer<4,>=2 in /usr/local/lib/python3.10/dist-packages (from requests) (3.3.2)\n",
            "Requirement already satisfied: idna<4,>=2.5 in /usr/local/lib/python3.10/dist-packages (from requests) (3.10)\n",
            "Requirement already satisfied: urllib3<3,>=1.21.1 in /usr/local/lib/python3.10/dist-packages (from requests) (2.0.7)\n",
            "Requirement already satisfied: certifi>=2017.4.17 in /usr/local/lib/python3.10/dist-packages (from requests) (2024.8.30)\n",
            "Requirement already satisfied: soupsieve>1.2 in /usr/local/lib/python3.10/dist-packages (from beautifulsoup4) (2.6)\n",
            "Requirement already satisfied: numpy<2,>=1.22.4 in /usr/local/lib/python3.10/dist-packages (from pandas) (1.26.4)\n",
            "Requirement already satisfied: python-dateutil>=2.8.2 in /usr/local/lib/python3.10/dist-packages (from pandas) (2.8.2)\n",
            "Requirement already satisfied: pytz>=2020.1 in /usr/local/lib/python3.10/dist-packages (from pandas) (2024.2)\n",
            "Requirement already satisfied: tzdata>=2022.1 in /usr/local/lib/python3.10/dist-packages (from pandas) (2024.1)\n",
            "Requirement already satisfied: six>=1.5 in /usr/local/lib/python3.10/dist-packages (from python-dateutil>=2.8.2->pandas) (1.16.0)\n"
          ]
        }
      ],
      "source": [
        "!pip install requests beautifulsoup4 pandas"
      ]
    },
    {
      "cell_type": "code",
      "source": [
        "import requests\n",
        "from bs4 import BeautifulSoup\n",
        "import pandas as pd\n",
        "\n",
        "# URL da página do GitHub Trending\n",
        "URL = 'https://github.com/trending'\n",
        "\n",
        "# Fazendo a requisição à página\n",
        "response = requests.get(URL)\n",
        "soup = BeautifulSoup(response.text, 'html.parser')"
      ],
      "metadata": {
        "id": "JGBinE7A_1mI"
      },
      "execution_count": 14,
      "outputs": []
    },
    {
      "cell_type": "code",
      "source": [
        "# Encontrando os repositórios na página\n",
        "lista_repositorios = soup.find_all('article', class_='Box-row', limit=10)\n"
      ],
      "metadata": {
        "id": "5_l0GDylAZT4"
      },
      "execution_count": 15,
      "outputs": []
    },
    {
      "cell_type": "code",
      "source": [
        "# Listas para armazenar as informações dos repositórios\n",
        "projects = []\n",
        "languages = []\n",
        "stars = []"
      ],
      "metadata": {
        "id": "diiaU56sAdwI"
      },
      "execution_count": 30,
      "outputs": []
    },
    {
      "cell_type": "code",
      "source": [
        "# Extraindo informações de cada projeto\n",
        "for repo in lista_repositorios:\n",
        "    # Nome do repositório\n",
        "    repo_name = repo.find('h2', class_='h3 lh-condensed').a['href'].strip().replace('\\n', '').replace(' ', '')\n",
        "    projects.append(repo_name)\n",
        "\n",
        "    # Linguagem utilizada\n",
        "    language = repo.find('span', itemprop='programmingLanguage')\n",
        "    languages.append(language.text if language else 'No language')\n",
        "\n",
        "    # Número de estrelas\n",
        "    star = repo.find('a', href=lambda x: x and x.endswith('/stargazers'))\n",
        "    stars.append(star.text.strip() if star else '0')"
      ],
      "metadata": {
        "id": "fXtrNsVQEgOp"
      },
      "execution_count": 35,
      "outputs": []
    },
    {
      "cell_type": "code",
      "source": [
        "# Criando o DataFrame com os dados coletados\n",
        "df = pd.DataFrame({\n",
        "    'Repository': projects,\n",
        "    'Language': languages,\n",
        "    'Stars': stars\n",
        "})\n",
        "\n",
        "print(df)"
      ],
      "metadata": {
        "colab": {
          "base_uri": "https://localhost:8080/"
        },
        "id": "ttWfmhvI_kpo",
        "outputId": "fa2cf4a9-4100-4d61-a93c-9455759dc9d1"
      },
      "execution_count": 37,
      "outputs": [
        {
          "output_type": "stream",
          "name": "stdout",
          "text": [
            "                    Repository     Language   Stars\n",
            "0               /sz3/libcimbar          C++   2,470\n",
            "1              /QwenLM/Qwen2.5        Shell   8,061\n",
            "2        /roboflow/supervision       Python  19,574\n",
            "3     /achristmascarl/rainfrog         Rust   1,639\n",
            "4          /krayin/laravel-crm        Blade  10,282\n",
            "5                /dotnet/eShop           C#   5,563\n",
            "6   /simple-icons/simple-icons   JavaScript  19,562\n",
            "7               /ruanyf/weekly  No language  45,406\n",
            "8            /nomic-ai/gpt4all          C++  69,337\n",
            "9               /scalar/scalar   TypeScript   5,908\n",
            "10              /sz3/libcimbar          C++   2,470\n",
            "11             /QwenLM/Qwen2.5        Shell   8,061\n",
            "12       /roboflow/supervision       Python  19,574\n",
            "13    /achristmascarl/rainfrog         Rust   1,639\n",
            "14         /krayin/laravel-crm        Blade  10,282\n",
            "15               /dotnet/eShop           C#   5,563\n",
            "16  /simple-icons/simple-icons   JavaScript  19,562\n",
            "17              /ruanyf/weekly  No language  45,406\n",
            "18           /nomic-ai/gpt4all          C++  69,337\n",
            "19              /scalar/scalar   TypeScript   5,908\n",
            "20              /sz3/libcimbar          C++   2,470\n",
            "21             /QwenLM/Qwen2.5        Shell   8,061\n",
            "22       /roboflow/supervision       Python  19,574\n",
            "23    /achristmascarl/rainfrog         Rust   1,639\n",
            "24         /krayin/laravel-crm        Blade  10,282\n",
            "25               /dotnet/eShop           C#   5,563\n",
            "26  /simple-icons/simple-icons   JavaScript  19,562\n",
            "27              /ruanyf/weekly  No language  45,406\n",
            "28           /nomic-ai/gpt4all          C++  69,337\n",
            "29              /scalar/scalar   TypeScript   5,908\n"
          ]
        }
      ]
    }
  ]
}